{
 "cells": [
  {
   "cell_type": "code",
   "execution_count": null,
   "id": "0a080b52-2b80-4771-938f-d858c5523882",
   "metadata": {},
   "outputs": [
    {
     "name": "stdout",
     "output_type": "stream",
     "text": [
      "Dash is running on http://127.0.0.1:8080/\n",
      "\n",
      " * Serving Flask app '__main__'\n",
      " * Debug mode: off\n"
     ]
    }
   ],
   "source": [
    "import dash\n",
    "import dash_core_components as dcc\n",
    "import dash_html_components as html\n",
    "import plotly.graph_objects as go\n",
    "import pandas as pd\n",
    "\n",
    "app = dash.Dash(__name__)\n",
    "\n",
    "data = {\n",
    "    'Planeta': ['Mercúrio', 'Vênus', 'Terra', 'Marte', 'Júpiter', 'Saturno', 'Urano', 'Netuno'],\n",
    "    'Distância do Sol': [0.39, 0.72, 1, 1.52, 5.20, 9.58, 19.18, 30.07],\n",
    "    'Massa (em massa da Terra)': [0.0553, 0.815, 1, 0.107, 318, 95.2, 14.5, 17.2]\n",
    "}\n",
    "\n",
    "df = pd.DataFrame(data)\n",
    "\n",
    "table = html.Table([\n",
    "    html.Thead(html.Tr([html.Th(col) for col in df.columns])),\n",
    "    html.Tbody([\n",
    "        html.Tr([html.Td(df.iloc[i][col]) for col in df.columns]) for i in range(len(df))\n",
    "    ])\n",
    "])\n",
    "\n",
    "fig = go.Figure(data=[\n",
    "    go.Scatter(x=df['Planeta'], y=df['Distância do Sol'], mode='markers', name='Distância do Sol'),\n",
    "    go.Bar(x=df['Planeta'], y=df['Massa (em massa da Terra)'], name='Massa')\n",
    "])\n",
    "\n",
    "graph = dcc.Graph(figure=fig)\n",
    "\n",
    "app.layout = html.Div(children=[\n",
    "    html.H1('Dashboard dos Planetas'),\n",
    "    table,\n",
    "    graph\n",
    "])\n",
    "\n",
    "if __name__ == '__main__':\n",
    "    app.run_server(port=8080)\n",
    "\n"
   ]
  },
  {
   "cell_type": "code",
   "execution_count": null,
   "id": "3742656b-bae1-4bce-a350-93079c5db4fe",
   "metadata": {},
   "outputs": [],
   "source": []
  }
 ],
 "metadata": {
  "kernelspec": {
   "display_name": "Python 3 (ipykernel)",
   "language": "python",
   "name": "python3"
  },
  "language_info": {
   "codemirror_mode": {
    "name": "ipython",
    "version": 3
   },
   "file_extension": ".py",
   "mimetype": "text/x-python",
   "name": "python",
   "nbconvert_exporter": "python",
   "pygments_lexer": "ipython3",
   "version": "3.10.9"
  }
 },
 "nbformat": 4,
 "nbformat_minor": 5
}
